{
 "cells": [
  {
   "cell_type": "code",
   "execution_count": 11,
   "id": "0ee4158b",
   "metadata": {},
   "outputs": [],
   "source": [
    "import matplotlib.pyplot as plt"
   ]
  },
  {
   "cell_type": "code",
   "execution_count": 12,
   "id": "ff6d14ef",
   "metadata": {
    "scrolled": true
   },
   "outputs": [
    {
     "name": "stdout",
     "output_type": "stream",
     "text": [
      "['airplane' 'bathtub' 'bed' 'bench' 'bookshelf' 'bottle' 'bowl' 'car'\n",
      " 'chair' 'cone' 'cup' 'curtain' 'desk' 'door' 'dresser' 'flower' 'glass'\n",
      " 'guitar' 'keyboard' 'lamp' 'laptop' 'mantel' 'monitor' 'night' 'person'\n",
      " 'piano' 'plant' 'radio' 'range' 'sink' 'sofa' 'stairs' 'stool' 'table'\n",
      " 'tent' 'toilet' 'tv' 'vase' 'wardrobe' 'xbox']\n",
      "Tracing class index for mantel ...\n",
      "(array([21], dtype=int64),)\n",
      "['mantel']\n",
      "Tracing class index for bookshelf ...\n",
      "(array([4], dtype=int64),)\n",
      "['bookshelf']\n"
     ]
    }
   ],
   "source": [
    "import tensorflow as tf\n",
    "import numpy as np\n",
    "import pandas as pd\n",
    "\n",
    "\n",
    "# Following functions are used to convert a value to compatible tf.train.Example\n",
    "def _bytes_feature(value):\n",
    "  \"\"\"Returns a bytes_list from a string / byte.\"\"\"\n",
    "  if isinstance(value, type(tf.constant(0))):\n",
    "    value = value.numpy() # BytesList won't unpack a string from an EagerTensor.\n",
    "  return tf.train.Feature(bytes_list=tf.train.BytesList(value=[value]))\n",
    "\n",
    "def _int64_feature(value):\n",
    "  \"\"\"Returns an int64_list from a bool / enum / int / uint.\"\"\"\n",
    "  return tf.train.Feature(int64_list=tf.train.Int64List(value=[value]))\n",
    "\n",
    "# Load meta data\n",
    "metadata_modelnet40 = pd.read_csv('archive/metadata_modelnet40.csv')\n",
    "shape_names = np.unique(metadata_modelnet40['class'].values) \n",
    "print(shape_names)\n",
    "\n",
    "# Trace\n",
    "print('Tracing class index for mantel ...')\n",
    "arr_index = np.where(shape_names == 'mantel')\n",
    "print(arr_index)\n",
    "print(shape_names[arr_index])\n",
    "print('Tracing class index for bookshelf ...')\n",
    "arr_index = np.where(shape_names == 'bookshelf')\n",
    "print(arr_index)\n",
    "print(shape_names[arr_index])\n",
    "\n",
    "# Create tf records\n",
    "#nR = 11 # For spft\n",
    "nR = 7   # For paper RSCNN\n",
    "N = 64\n",
    "\n",
    "\n",
    "#sp_multispectral_img_folder = 'extracted_multispectral_sp_images/'\n",
    "#record_folder = 'extracted_tfrecords_clean/'\n",
    "#sp_multispectral_img_folder = 'extracted_multispectral_sp_noise_images/'\n",
    "#record_folder = 'extracted_tfrecords_noise/'\n",
    "#sp_multispectral_img_folder = 'extracted_multispectral_sp_missing_images/'\n",
    "#record_folder = 'extracted_tfrecords_missing/'\n",
    "#sp_multispectral_img_folder = 'extracted_multispectral_sp_outliers_images/'\n",
    "#record_folder = 'extracted_tfrecords_outliers/'\n",
    "#sp_multispectral_img_folder = 'extracted_multispectral_sp_rot_noise_images/'\n",
    "#record_folder = 'extracted_tfrecords_rot_noise/'\n",
    "#sp_multispectral_img_folder = 'extracted_rscnn_sp_images/'\n",
    "#record_folder = 'extracted_tfrecords_rscnn_clean/'\n",
    "sp_multispectral_img_folder = 'extracted_rscnn_sp_rot_noise_images/'\n",
    "record_folder = 'extracted_tfrecords_rscnn_rot_noise/'"
   ]
  },
  {
   "cell_type": "code",
   "execution_count": 13,
   "id": "d3ec5ab6",
   "metadata": {},
   "outputs": [
    {
     "data": {
      "text/plain": [
       "7"
      ]
     },
     "execution_count": 13,
     "metadata": {},
     "output_type": "execute_result"
    }
   ],
   "source": [
    "nR"
   ]
  },
  {
   "cell_type": "code",
   "execution_count": 14,
   "id": "9144dd33",
   "metadata": {},
   "outputs": [
    {
     "data": {
      "text/plain": [
       "RangeIndex(start=0, stop=12311, step=1)"
      ]
     },
     "execution_count": 14,
     "metadata": {},
     "output_type": "execute_result"
    }
   ],
   "source": [
    "metadata_modelnet40.index"
   ]
  },
  {
   "cell_type": "code",
   "execution_count": 15,
   "id": "2acf4c8e",
   "metadata": {},
   "outputs": [
    {
     "data": {
      "text/plain": [
       "(Int64Index([  100,   101,   102,   103,   104,   105,   106,   107,   108,\n",
       "               109,\n",
       "             ...\n",
       "             12301, 12302, 12303, 12304, 12305, 12306, 12307, 12308, 12309,\n",
       "             12310],\n",
       "            dtype='int64', length=9843),\n",
       " Int64Index([    0,     1,     2,     3,     4,     5,     6,     7,     8,\n",
       "                 9,\n",
       "             ...\n",
       "             12198, 12199, 12200, 12201, 12202, 12203, 12204, 12205, 12206,\n",
       "             12207],\n",
       "            dtype='int64', length=2468))"
      ]
     },
     "execution_count": 15,
     "metadata": {},
     "output_type": "execute_result"
    }
   ],
   "source": [
    "tf.__version__\n",
    "arr1 = metadata_modelnet40.groupby('split').groups['train']\n",
    "arr2 = metadata_modelnet40.groupby('split').groups['test']\n",
    "arr1, arr2"
   ]
  },
  {
   "cell_type": "code",
   "execution_count": 16,
   "id": "3ec43d14",
   "metadata": {},
   "outputs": [],
   "source": [
    "def create_feature(row_id):\n",
    "    file_folder = sp_multispectral_img_folder\n",
    "    file_folder = file_folder + metadata_modelnet40['class'][row_id] + '/' + metadata_modelnet40['split'][row_id] + '/'\n",
    "\n",
    "    obj_class = str(metadata_modelnet40['class'][row_id])    \n",
    "    class_index = np.where(shape_names == obj_class)\n",
    "    #print(class_index[0][0])\n",
    "    feature = {\n",
    "        'fname': _bytes_feature(bytes(obj_class,encoding='utf8')),\n",
    "        'y': _int64_feature(class_index[0][0])\n",
    "        }\n",
    "\n",
    "    for r in range(nR):\n",
    "        xval = str(r+1)\n",
    "        file_name = file_folder + metadata_modelnet40['object_id'][row_id] + '_r' + xval + '.csv'\n",
    "        #print(file_name)\n",
    "        sp_spec_img = pd.read_csv(file_name, header=None).to_numpy().reshape([N, N])\n",
    "        #print(sp_spec_img.shape)\n",
    "        #sp_spec_img = np.transpose(sp_spec_img)\n",
    "        if(r == 1):\n",
    "            plt.imshow(sp_spec_img)\n",
    "        feature['x' + str(r) ] = _bytes_feature(sp_spec_img.tostring())\n",
    "\n",
    "    #print(feature)\n",
    "    return tf.train.Example(features=tf.train.Features(feature=feature))\n",
    "    "
   ]
  },
  {
   "cell_type": "code",
   "execution_count": 17,
   "id": "6d548a9e",
   "metadata": {},
   "outputs": [],
   "source": [
    "from tqdm import tqdm"
   ]
  },
  {
   "cell_type": "code",
   "execution_count": 18,
   "id": "069fe286",
   "metadata": {},
   "outputs": [
    {
     "data": {
      "text/plain": [
       "0.014055375444975926"
      ]
     },
     "execution_count": 18,
     "metadata": {},
     "output_type": "execute_result"
    }
   ],
   "source": [
    "np.random.rand()"
   ]
  },
  {
   "cell_type": "code",
   "execution_count": 19,
   "id": "f2a8a54f",
   "metadata": {
    "scrolled": false
   },
   "outputs": [
    {
     "name": "stderr",
     "output_type": "stream",
     "text": [
      "C:\\anaconda3\\envs\\py37\\lib\\site-packages\\ipykernel_launcher.py:22: DeprecationWarning: tostring() is deprecated. Use tobytes() instead.\n"
     ]
    },
    {
     "data": {
      "image/png": "[encoded data removed]",
      "text/plain": [
       "<Figure size 432x288 with 1 Axes>"
      ]
     },
     "metadata": {
      "needs_background": "light"
     },
     "output_type": "display_data"
    }
   ],
   "source": [
    "tf_example = create_feature(12111)"
   ]
  },
  {
   "cell_type": "code",
   "execution_count": 21,
   "id": "302374f6",
   "metadata": {},
   "outputs": [
    {
     "name": "stderr",
     "output_type": "stream",
     "text": [
      "  0%|                                                                                        | 0/12311 [00:00<?, ?it/s]C:\\anaconda3\\envs\\py37\\lib\\site-packages\\ipykernel_launcher.py:22: DeprecationWarning: tostring() is deprecated. Use tobytes() instead.\n",
      "100%|████████████████████████████████████████████████████████████████████████████| 12311/12311 [11:08<00:00, 18.41it/s]\n"
     ]
    },
    {
     "data": {
      "image/png": "[encoded data removed]",
      "text/plain": [
       "<Figure size 432x288 with 1 Axes>"
      ]
     },
     "metadata": {
      "needs_background": "light"
     },
     "output_type": "display_data"
    }
   ],
   "source": [
    "filename_train = record_folder + 'train.tfrecord'\n",
    "filename_test = record_folder + 'test.tfrecord'\n",
    "filename_val = record_folder + 'val.tfrecord'\n",
    "\n",
    "writer_train = tf.io.TFRecordWriter(filename_train) \n",
    "writer_test = tf.io.TFRecordWriter(filename_test)\n",
    "writer_val = tf.io.TFRecordWriter(filename_val)\n",
    "\n",
    "for row_id in tqdm(metadata_modelnet40.index):\n",
    "    split_ = metadata_modelnet40['split'][row_id]\n",
    "    tf_example = create_feature(row_id)\n",
    "    \n",
    "    if(split_ == 'train'):\n",
    "        if(np.random.rand() < .875):\n",
    "            writer_train.write(tf_example.SerializeToString())\n",
    "        else:\n",
    "            writer_val.write(tf_example.SerializeToString())\n",
    "    else:\n",
    "        writer_test.write(tf_example.SerializeToString())\n",
    "\n",
    "writer_train.close()\n",
    "writer_test.close()\n",
    "writer_val.close()"
   ]
  }
 ],
 "metadata": {
  "kernelspec": {
   "display_name": "Python 3 (ipykernel)",
   "language": "python",
   "name": "python3"
  },
  "language_info": {
   "codemirror_mode": {
    "name": "ipython",
    "version": 3
   },
   "file_extension": ".py",
   "mimetype": "text/x-python",
   "name": "python",
   "nbconvert_exporter": "python",
   "pygments_lexer": "ipython3",
   "version": "3.7.13"
  }
 },
 "nbformat": 4,
 "nbformat_minor": 5
}
